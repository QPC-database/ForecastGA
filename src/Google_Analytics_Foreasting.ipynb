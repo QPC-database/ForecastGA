{
 "cells": [
  {
   "cell_type": "markdown",
   "metadata": {
    "id": "9E1nB_64XVrB"
   },
   "source": [
    "# Website Traffic Prediction With Colaboratory and Facebook Prophet\n",
    "\n",
    "A few resources to read up on Prophet:\n",
    "\n",
    "\n",
    "*   https://research.fb.com/prophet-forecasting-at-scale/\n",
    "*   https://facebook.github.io/prophet/\n",
    "*   http://pbpython.com/prophet-overview.html\n",
    "\n"
   ]
  },
  {
   "cell_type": "markdown",
   "metadata": {
    "id": "uO1_jr9BYRtD"
   },
   "source": [
    "## Install Needed Libraries In Colab"
   ]
  },
  {
   "cell_type": "code",
   "execution_count": null,
   "metadata": {
    "id": "vE4vmaOFW41s"
   },
   "outputs": [],
   "source": [
    "# Libraries\n",
    "import pandas as pd\n",
    "import numpy as np\n",
    "import re\n",
    "from datetime import datetime\n",
    "from dateutil.rrule import rrule, MONTHLY\n",
    "\n",
    "import matplotlib.pyplot as plt\n",
    "\n",
    "import json\n",
    "import forecastga\n",
    "import forecastga.googleanalytics as ga\n",
    "\n",
    "\n",
    "# Logging\n",
    "import logging\n",
    "logging.basicConfig(level=logging.DEBUG)\n",
    "log = logging.getLogger(__name__)"
   ]
  },
  {
   "cell_type": "markdown",
   "metadata": {
    "id": "qlqH0J2hYb48"
   },
   "source": [
    "## Import Needed libraries"
   ]
  },
  {
   "cell_type": "code",
   "execution_count": null,
   "metadata": {
    "colab": {
     "base_uri": "https://localhost:8080/",
     "height": 946
    },
    "id": "4nB4v7InXLXd",
    "outputId": "449c0561-4714-41b2-e8ca-9fb795ce6215"
   },
   "outputs": [],
   "source": [
    "from types import SimpleNamespace\n",
    "\n",
    "with open('identity.json') as f:\n",
    "    jf = json.load(f)\n",
    "    identify_json = SimpleNamespace(**jf)\n",
    "\n"
   ]
  },
  {
   "cell_type": "code",
   "execution_count": null,
   "metadata": {},
   "outputs": [],
   "source": [
    "# Libraries\n",
    "import pandas as pd\n",
    "import numpy as np\n",
    "import re\n",
    "from datetime import datetime\n",
    "from dateutil.rrule import rrule, MONTHLY\n",
    "\n",
    "import matplotlib.pyplot as plt\n",
    "\n",
    "import json\n",
    "import forecastga\n",
    "import forecastga.googleanalytics as ga\n",
    "\n",
    "\n",
    "# Logging\n",
    "import logging\n",
    "logging.basicConfig(level=logging.DEBUG)\n",
    "log = logging.getLogger(__name__)\n",
    "\n",
    "\n",
    "\n",
    "from types import SimpleNamespace\n",
    "\n",
    "with open('identity.json') as f:\n",
    "    jf = json.load(f)\n",
    "    identify_json = SimpleNamespace(**jf)\n",
    "\n",
    "\n",
    "#@title Google Analytics\n",
    "ga_url = \"https://analytics.google.com/analytics/web/?authuser=2#/report-home/a49839941w81675857p84563570\" #@param {type:\"string\"}\n",
    "ga_segment = \"organic traffic\" #@param [\"all users\", \"organic traffic\", \"direct traffic\", \"referral traffic\", \"mobile traffic\", \"tablet traffic\"] {type:\"string\"}\n",
    "ga_metric = \"sessions\" #@param [\"sessions\", \"pageviews\", \"unique pageviews\", \"transactions\"] {type:\"string\"}\n",
    "\n",
    "\n",
    "# @title Historical Data\n",
    "\n",
    "# @markdown #### Date Range:\n",
    "ga_start_date = \"2018-01-01\" #@param {type:\"date\"}\n",
    "ga_end_date = \"2019-12-31\" #@param {type:\"date\",name:\"GA Date\"}\n",
    "\n",
    "# @markdown ***\n",
    "# @markdown <div align=\"center\">OR</div>\n",
    "\n",
    "# @markdown #### Prior Months:\n",
    "prior_months = 0 #@param {type:\"integer\"}\n",
    "\n",
    "# @title Prediction Data\n",
    "\n",
    "future_months = 2 # @param {type:\"slider\", min:1, max:24, step:1}\n",
    "#@markdown ---\n",
    "#@markdown `max_available_volume` is the total possible daily volume for a niche/geo. This helps keep the algorithm honest by putting a max possible upper bound on prediction.\n",
    "max_available_volume = 12222 # @param {type:\"integer\", hint:\"this is a description\"}\n",
    "#@markdown ---\n",
    "#@markdown `omit_values_over` is a way to clean your existing data to remove one-time spikes, caused by a rare event that is unlikely to happen again.  This keeps the algorithm from using this data in its future predictions.\n",
    "omit_values_over = 2000000 # @param {type:\"integer\"}\n",
    "#@markdown ---\n",
    "save_output = False # @param {type:\"boolean\"}\n",
    "\n",
    "\n",
    "\n",
    "try:\n",
    "    profile = ga.authenticate(\n",
    "      client_id=identify_json.client_id,\n",
    "      client_secret=identify_json.client_secret,\n",
    "      identity=identify_json.identity,\n",
    "      ga_url=ga_url,\n",
    "      interactive=True\n",
    "  )\n",
    "    print('Authenticated')\n",
    "except Exception as e:\n",
    "    print('An error occured', str(e))\n",
    "\n",
    "\n",
    "class Struct:\n",
    "    def __init__(self, **entries):\n",
    "        self.__dict__.update(entries)\n",
    "\n",
    "def p_date(_dt):\n",
    "    return datetime.strftime(_dt, '%Y-%m-%d')\n",
    "\n",
    "def get_months(start_date,end_date ):\n",
    "    strt_dt = datetime.strptime(start_date, '%Y-%m-%d')\n",
    "    end_dt = datetime.strptime(end_date, '%Y-%m-%d')\n",
    "    return rrule(MONTHLY, dtstart=strt_dt, until=end_dt).count()\n",
    "\n",
    "\n",
    "def print_profiles(accounts):\n",
    "\n",
    "    out = []\n",
    "\n",
    "    for a in accounts:\n",
    "        out.append({\"accounts\":a.name, \"webproperties\":\"\"})\n",
    "    for w in a.webproperties:\n",
    "        out.append({\"accounts\": \"\", \"webproperties\":w.name})\n",
    "\n",
    "    display(pd.DataFrame(out,columns= ['accounts','webproperties']))\n",
    "\n",
    "\n",
    "def get_ga_data(profile, data):\n",
    "\n",
    "    try:\n",
    "\n",
    "        if data.prior_months and int(data.prior_months) > 0:\n",
    "            print('Pulling {} prior months data.'.format(data.prior_months))\n",
    "            sessions = \\\n",
    "                profile.core.query.metrics(data.ga_metric).segment(data.ga_segment).daily(months=0\n",
    "                    - int(data.prior_months)).report\n",
    "        else:\n",
    "            print('Pulling data from {} to {}.'.format(data.ga_start_date, data.ga_end_date))\n",
    "            sessions = \\\n",
    "                profile.core.query.metrics(data.ga_metric).segment(data.ga_segment).daily(data.ga_start_date,\n",
    "                    data.ga_end_date).report\n",
    "\n",
    "    except Exception as e:\n",
    "        print ('Error. Error retreiving data from Google Analytics.', str(e))\n",
    "        return None\n",
    "\n",
    "    df = sessions.as_dataframe()\n",
    "\n",
    "    df['date'] = pd.to_datetime(df['date'])\n",
    "\n",
    "\n",
    "    # Clean data.\n",
    "    if data.omit_values_over and int(data.omit_values_over) > 0:\n",
    "        df.loc[df[data.ga_metric] > data.omit_values_over, data.ga_metric] = np.nan\n",
    "\n",
    "    df.loc[df[data.ga_metric] < 1, data.ga_metric] = np.nan\n",
    "\n",
    "    df.dropna(inplace=True, axis=0)\n",
    "\n",
    "\n",
    "    print('Rows: {rows} Min Date: {min_date} Max Date: {max_date}'.format(rows=len(df),\n",
    "                                                                      min_date=p_date(df.date.min()),\n",
    "                                                                      max_date=p_date(df.date.max())\n",
    "                                                                      ))\n",
    "    # Backfilling missing values\n",
    "    df = df.set_index('date').asfreq('d', method='bfill')\n",
    "\n",
    "    return df\n",
    "\n",
    "\n",
    "data = Struct(**{\n",
    "    'ga_segment': ga_segment,\n",
    "    'ga_metric': ga_metric,\n",
    "    'ga_start_date': ga_start_date,\n",
    "    'ga_end_date': ga_end_date,\n",
    "    'prior_months': prior_months,\n",
    "    'omit_values_over': omit_values_over,\n",
    "    })\n",
    "\n",
    "\n",
    "datafile = get_ga_data(profile, data)\n",
    "datafile.plot()\n"
   ]
  },
  {
   "cell_type": "code",
   "execution_count": null,
   "metadata": {},
   "outputs": [],
   "source": [
    "model_list = [\"ARIMA\",\"Gluonts\"]\n",
    "\n",
    "am = forecastga.AutomatedModel(df = datafile , model_list=model_list, forecast_len=30 )"
   ]
  },
  {
   "cell_type": "code",
   "execution_count": null,
   "metadata": {},
   "outputs": [],
   "source": [
    "am.forecast_insample()"
   ]
  },
  {
   "cell_type": "markdown",
   "metadata": {
    "id": "c1n8Mv2pYqt2"
   },
   "source": [
    "## Let's Collect Some Data"
   ]
  },
  {
   "cell_type": "markdown",
   "metadata": {
    "id": "IUgKMhTQjrh4"
   },
   "source": [
    "### Account Settings:"
   ]
  },
  {
   "cell_type": "code",
   "execution_count": null,
   "metadata": {
    "cellView": "form",
    "id": "feW_lcd8Ypj4"
   },
   "outputs": [],
   "source": [
    "#@title Google Analytics\n",
    "ga_url = \"https://analytics.google.com/analytics/web/?authuser=2#/report-home/a49839941w81675857p84563570\" #@param {type:\"string\"}\n",
    "ga_segment = \"organic traffic\" #@param [\"all users\", \"organic traffic\", \"direct traffic\", \"referral traffic\", \"mobile traffic\", \"tablet traffic\"] {type:\"string\"}\n",
    "ga_metric = \"sessions\" #@param [\"sessions\", \"pageviews\", \"unique pageviews\", \"transactions\"] {type:\"string\"}"
   ]
  },
  {
   "cell_type": "markdown",
   "metadata": {
    "id": "ipOT1FEWjvMI"
   },
   "source": [
    "### Timeframe Settings:"
   ]
  },
  {
   "cell_type": "code",
   "execution_count": null,
   "metadata": {
    "cellView": "form",
    "id": "oyL7FbO6dtjt"
   },
   "outputs": [],
   "source": [
    "# @title Historical Data\n",
    "\n",
    "# @markdown #### Date Range:\n",
    "ga_start_date = \"2018-01-01\" #@param {type:\"date\"}\n",
    "ga_end_date = \"2019-12-31\" #@param {type:\"date\",name:\"GA Date\"}\n",
    "\n",
    "# @markdown ***\n",
    "# @markdown <div align=\"center\">OR</div>\n",
    "\n",
    "# @markdown #### Prior Months:\n",
    "prior_months = 0 #@param {type:\"integer\"}\n"
   ]
  },
  {
   "cell_type": "markdown",
   "metadata": {
    "id": "ovZsGRD5j4G8"
   },
   "source": [
    "### Prediction Settings:"
   ]
  },
  {
   "cell_type": "code",
   "execution_count": null,
   "metadata": {
    "cellView": "form",
    "id": "9wDKYXT4eQib"
   },
   "outputs": [],
   "source": [
    "# @title Prediction Data\n",
    "\n",
    "future_months = 2 # @param {type:\"slider\", min:1, max:24, step:1}\n",
    "#@markdown ---\n",
    "#@markdown `max_available_volume` is the total possible daily volume for a niche/geo. This helps keep the algorithm honest by putting a max possible upper bound on prediction.\n",
    "max_available_volume = 12222 # @param {type:\"integer\", hint:\"this is a description\"}\n",
    "#@markdown ---\n",
    "#@markdown `omit_values_over` is a way to clean your existing data to remove one-time spikes, caused by a rare event that is unlikely to happen again.  This keeps the algorithm from using this data in its future predictions. \n",
    "omit_values_over = 2000000 # @param {type:\"integer\"}\n",
    "#@markdown ---\n",
    "save_output = False # @param {type:\"boolean\"}"
   ]
  },
  {
   "cell_type": "markdown",
   "metadata": {
    "id": "VdwD5Twx1H0O"
   },
   "source": [
    "## Authenticate"
   ]
  },
  {
   "cell_type": "code",
   "execution_count": null,
   "metadata": {
    "colab": {
     "base_uri": "https://localhost:8080/",
     "height": 86
    },
    "id": "TDubOJEkw1Fr",
    "outputId": "913453db-0e9a-40b7-f495-2bd5f4e652f7"
   },
   "outputs": [],
   "source": [
    "try:\n",
    "    profile = ga.authenticate(\n",
    "      client_id=identify_json.client_id, \n",
    "      client_secret=identify_json.client_secret, \n",
    "      identity=identify_json.identity,\n",
    "      ga_url=ga_url,\n",
    "      interactive=True\n",
    "  )\n",
    "    print('Authenticated')\n",
    "except Exception as e:\n",
    "    print('An error occured', str(e))"
   ]
  },
  {
   "cell_type": "markdown",
   "metadata": {
    "id": "2iY9LNC9g5vT"
   },
   "source": [
    "## Get GA Time Series Data"
   ]
  },
  {
   "cell_type": "code",
   "execution_count": null,
   "metadata": {
    "colab": {
     "base_uri": "https://localhost:8080/",
     "height": 967
    },
    "id": "paRR5vbkiDTP",
    "outputId": "cdbeb26f-fe5b-433f-ba73-df9396deb84b"
   },
   "outputs": [],
   "source": [
    "class Struct:\n",
    "    def __init__(self, **entries):\n",
    "        self.__dict__.update(entries)\n",
    "\n",
    "def p_date(_dt):\n",
    "    return datetime.strftime(_dt, '%Y-%m-%d')\n",
    "\n",
    "def get_months(start_date,end_date ):\n",
    "    strt_dt = datetime.strptime(start_date, '%Y-%m-%d')\n",
    "    end_dt = datetime.strptime(end_date, '%Y-%m-%d')\n",
    "    return rrule(MONTHLY, dtstart=strt_dt, until=end_dt).count()\n",
    "\n",
    "\n",
    "def print_profiles(accounts):\n",
    "\n",
    "    out = []\n",
    "\n",
    "    for a in accounts: \n",
    "        out.append({\"accounts\":a.name, \"webproperties\":\"\"})\n",
    "    for w in a.webproperties:\n",
    "        out.append({\"accounts\": \"\", \"webproperties\":w.name})\n",
    "\n",
    "    display(pd.DataFrame(out,columns= ['accounts','webproperties']))\n",
    "\n",
    "\n",
    "def get_ga_data(profile, data):\n",
    "\n",
    "    try:\n",
    "\n",
    "        if data.prior_months and int(data.prior_months) > 0:\n",
    "            print('Pulling {} prior months data.'.format(data.prior_months))\n",
    "            sessions = \\\n",
    "                profile.core.query.metrics(data.ga_metric).segment(data.ga_segment).daily(months=0\n",
    "                    - int(data.prior_months)).report\n",
    "        else:\n",
    "            print('Pulling data from {} to {}.'.format(data.ga_start_date, data.ga_end_date))\n",
    "            sessions = \\\n",
    "                profile.core.query.metrics(data.ga_metric).segment(data.ga_segment).daily(data.ga_start_date,\n",
    "                    data.ga_end_date).report\n",
    "\n",
    "    except Exception as e:\n",
    "        print ('Error. Error retreiving data from Google Analytics.', str(e))\n",
    "        return None\n",
    "\n",
    "    df = sessions.as_dataframe()\n",
    "\n",
    "    df['date'] = pd.to_datetime(df['date'])\n",
    "\n",
    "\n",
    "    # Clean data.\n",
    "    if data.omit_values_over and int(data.omit_values_over) > 0:\n",
    "        df.loc[df[data.ga_metric] > data.omit_values_over, data.ga_metric] = np.nan\n",
    "\n",
    "    df.loc[df[data.ga_metric] < 1, data.ga_metric] = np.nan\n",
    "\n",
    "    df.dropna(inplace=True, axis=0)\n",
    "\n",
    "\n",
    "    print('Rows: {rows} Min Date: {min_date} Max Date: {max_date}'.format(rows=len(df),\n",
    "                                                                      min_date=p_date(df.date.min()),\n",
    "                                                                      max_date=p_date(df.date.max())\n",
    "                                                                      ))\n",
    "    # Backfilling missing values\n",
    "    df = df.set_index('date').asfreq('d', method='bfill') \n",
    "\n",
    "    return df\n",
    "\n",
    "\n",
    "data = Struct(**{\n",
    "    'ga_segment': ga_segment,\n",
    "    'ga_metric': ga_metric,\n",
    "    'ga_start_date': ga_start_date,\n",
    "    'ga_end_date': ga_end_date,\n",
    "    'prior_months': prior_months,\n",
    "    'omit_values_over': omit_values_over,\n",
    "    })\n",
    "\n",
    "\n",
    "datafile = get_ga_data(profile, data)\n",
    "\n",
    "def plot_colab(df, title=None, dark_mode=False):\n",
    "\n",
    "    from IPython.display import Markdown as md\n",
    "    plt.style.use('default')\n",
    "\n",
    "    def show_md(txt):\n",
    "        display(md(txt))\n",
    "\n",
    "    if dark_mode:\n",
    "        # Good all around color library\n",
    "        plt.style.use('seaborn-colorblind')\n",
    "        plt.rcParams.update({\n",
    "            \"lines.color\": \"#565555\",\n",
    "            \"legend.edgecolor\": \"#818080\",\n",
    "            \"legend.borderpad\": 0.6,\n",
    "            \"text.color\": \"white\",\n",
    "            \"axes.facecolor\": \"#383838\",\n",
    "            \"axes.edgecolor\": \"#565555\",\n",
    "            \"axes.grid\": True,\n",
    "            \"axes.labelcolor\": \"white\",\n",
    "            \"grid.color\": \"#565555\",\n",
    "            \"xtick.color\": \"white\",\n",
    "            \"ytick.color\": \"white\",\n",
    "            \"figure.facecolor\": \"#383838\",\n",
    "            \"savefig.facecolor\": \"white\",\n",
    "            \"savefig.edgecolor\": \"white\",\n",
    "            \"font.sans-serif\": \"Liberation Sans\",\n",
    "            \"lines.linewidth\": 2,\n",
    "            \"figure.figsize\": [15,10],\n",
    "            \"font.size\": 16\n",
    "                    })\n",
    "        \n",
    "    else:\n",
    "        plt.style.use('seaborn-colorblind')\n",
    "        plt.rcParams.update({\n",
    "            \"legend.borderpad\": 0.6,\n",
    "            \"axes.grid\": True,\n",
    "            \"font.sans-serif\": \"Liberation Sans\",\n",
    "            \"lines.linewidth\": 2,\n",
    "            \"figure.figsize\": [15,10],\n",
    "            \"font.size\": 16\n",
    "                    })\n",
    "\n",
    "    if title:\n",
    "        show_md('## {}'.format(title))\n",
    "\n",
    "    df.plot()\n",
    "    plt.show()\n",
    "\n",
    "\n",
    "\n",
    "#plot_colab(datafile, title=\"Trending Data\", dark_mode=True)\n",
    "\n",
    "datafile.plot()\n",
    "\n"
   ]
  },
  {
   "cell_type": "code",
   "execution_count": null,
   "metadata": {},
   "outputs": [],
   "source": [
    "sessions = profile.core.query.metrics('Sessions').daily(months=0\n",
    "                    - int(4)).report"
   ]
  },
  {
   "cell_type": "markdown",
   "metadata": {
    "id": "CV8UBJ2-Ggt4"
   },
   "source": [
    "## Forecasting\n"
   ]
  },
  {
   "cell_type": "code",
   "execution_count": null,
   "metadata": {
    "id": "mU0Fcz3vHNg8"
   },
   "outputs": [],
   "source": [
    "\n",
    "model_list = [\"Prophet\",\"NBEATS\", \"TATS\", \"TBATS1\", \"TBATP1\", \"TBATS2\", \"ARIMA\",\"Gluonts\"]\n",
    "\n",
    "am = AutomatedModel(df = datafile , model_list=model_list, forecast_len=180 )"
   ]
  },
  {
   "cell_type": "code",
   "execution_count": null,
   "metadata": {
    "colab": {
     "base_uri": "https://localhost:8080/",
     "height": 995
    },
    "id": "gmxcXBl5Hh2y",
    "outputId": "94220a4f-48a6-48f9-9768-34850683922b"
   },
   "outputs": [],
   "source": [
    "forecast_in, performance = am.forecast_insample()"
   ]
  },
  {
   "cell_type": "code",
   "execution_count": null,
   "metadata": {
    "id": "JeganlKW0zTe"
   },
   "outputs": [],
   "source": []
  },
  {
   "cell_type": "markdown",
   "metadata": {
    "id": "4KaDOVvo-FHK"
   },
   "source": [
    "#### Automated Models\n",
    "\n",
    "1. ```ARIMA``` - Automated ARIMA Modelling\n",
    "1. ```Prophet``` - Modeling Multiple Seasonality With Linear or Non-linear Growth\n",
    "1. ```HWAAS``` - Exponential Smoothing With Additive Trend and Additive Seasonality\n",
    "1. ```HWAMS``` - Exponential Smoothing with Additive Trend and Multiplicative Seasonality\n",
    "1. ```NBEATS``` -  Neural basis expansion analysis (now fixed at 20 Epochs)\n",
    "1. ```Gluonts``` - RNN-based Model (now fixed at 20 Epochs)\n",
    "1. ```TATS``` - Seasonal and Trend no Box Cox\n",
    "1. ```TBAT``` - Trend and Box Cox\n",
    "1. ```TBATS1``` - Trend, Seasonal (one), and Box Cox\n",
    "1. ```TBATP1``` - TBATS1 but Seasonal Inference is Hardcoded by Periodicity\n",
    "1. ```TBATS2``` - TBATS1 With Two Seasonal Periods"
   ]
  }
 ],
 "metadata": {
  "accelerator": "GPU",
  "colab": {
   "collapsed_sections": [],
   "name": "Google Analytics Foreasting",
   "provenance": [],
   "toc_visible": true
  },
  "kernelspec": {
   "display_name": "Python 3",
   "language": "python",
   "name": "python3"
  },
  "language_info": {
   "codemirror_mode": {
    "name": "ipython",
    "version": 3
   },
   "file_extension": ".py",
   "mimetype": "text/x-python",
   "name": "python",
   "nbconvert_exporter": "python",
   "pygments_lexer": "ipython3",
   "version": "3.7.9"
  }
 },
 "nbformat": 4,
 "nbformat_minor": 4
}
